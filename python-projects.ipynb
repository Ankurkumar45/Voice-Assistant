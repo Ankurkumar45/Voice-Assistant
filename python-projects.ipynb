{
 "cells": [
  {
   "cell_type": "code",
   "execution_count": 14,
   "id": "8e7d816e-db19-4a9a-990e-49ee7f76d669",
   "metadata": {},
   "outputs": [
    {
     "name": "stdout",
     "output_type": "stream",
     "text": [
      "Adjusting Noise\n",
      "listening.....\n",
      "Done recording\n",
      "Recognizing the text\n",
      "Decoded Text:WhatsApp\n"
     ]
    },
    {
     "name": "stdin",
     "output_type": "stream",
     "text": [
      "Number= +917079076206\n",
      "Your massage= hello how are you\n"
     ]
    }
   ],
   "source": [
    "import speech_recognition as sr\n",
    "import pyttsx3 as ttsx3\n",
    "import pyaudio\n",
    "import os\n",
    "import pywhatkit\n",
    "recognizer=sr.Recognizer()\n",
    "with sr.Microphone() as source:\n",
    "    print('Adjusting Noise')\n",
    "    recognizer.adjust_for_ambient_noise(source,duration=1)\n",
    "    engine=ttsx3.init()\n",
    "    engine.say('Hello Ankur, How can I help you?')\n",
    "    engine.runAndWait()\n",
    "    print('listening.....')\n",
    "    recorded_audio=recognizer.listen(source,timeout=3)\n",
    "    print('Done recording')\n",
    "try:\n",
    "    print('Recognizing the text')\n",
    "    text=recognizer.recognize_google(recorded_audio,language='en-US')\n",
    "    print('Decoded Text:{}'.format(text))\n",
    "except Exception as ex:\n",
    "    print(ex)\n",
    "text=text.lower()\n",
    "\n",
    "if('open notepad' in text):\n",
    "    engine.say('Notepad is opening')\n",
    "    engine.runAndWait()\n",
    "    os.system('notepad')\n",
    "elif('open chrome' in text):\n",
    "    engine.say('Chrome is opening')\n",
    "    engine.runAndWait()\n",
    "    os.system('start chrome')\n",
    "elif('whatsapp' in text):\n",
    "    engine.say(\"Write receiver's mobile number, and your message...\")\n",
    "    engine.runAndWait()\n",
    "    number=input('Number=')\n",
    "    massage=input('Your massage=')\n",
    "    pywhatkit.sendwhatmsg_instantly(number,massage)\n",
    "    engine.say('Your message has sended.')\n",
    "    engine.runAndWait()\n",
    "elif('play music' in text):\n",
    "    engine.say('Say the song name...')\n",
    "    engine.runAndWait()\n",
    "    with sr.Microphone() as source:\n",
    "        recognizer.adjust_for_ambient_noise(source,duration=1)\n",
    "        print('listening.....')\n",
    "        recorded_audio=recognizer.listen(source,timeout=5)\n",
    "        print('Done recording')\n",
    "    try:\n",
    "        song=recognizer.recognize_google(recorded_audio,language='en-US')\n",
    "        print('Decoded Text:{}'.format(song))\n",
    "    except Exception as ex:\n",
    "        print(ex)\n",
    "    song=song.lower()\n",
    "    engine.say('Playing the song...')\n",
    "    engine.runAndWait()\n",
    "    pywhatkit.playonyt(song)\n",
    "elif('open camera' in text):\n",
    "    engine.say('Opening the camera')\n",
    "    engine.runAndWait()\n",
    "    os.system('start microsoft.windows.camera:')\n",
    "elif('open control' in text):\n",
    "    engine.say('Control pannel is opening')\n",
    "    engine.runAndWait()\n",
    "    os.system('control')\n",
    "elif('open registry editor' in text):\n",
    "    engine.say('Registry Editor is opening')\n",
    "    engine.runAndWait()\n",
    "    os.system('regedit')\n",
    "elif('open system information window' in text):\n",
    "    engine.say('Opening the System Information window')\n",
    "    engine.runAndWait()\n",
    "    os.system('msconfig')\n",
    "elif('open services utility' in text):\n",
    "    engine.say('Opening the Services utility')\n",
    "    engine.runAndWait()\n",
    "    os.system('services.msc')\n",
    "elif('open file explorer' in text):\n",
    "    engine.say('Opening the file explorer')\n",
    "    engine.runAndWait()\n",
    "    os.system('explorer')\n",
    "elif('open microsoft edge' in text):\n",
    "    engine.say('Microsoft Edge is opening')\n",
    "    engine.runAndWait()\n",
    "    os.system('start msedge')\n",
    "elif('open system configuration' in text):\n",
    "    engine.say('Opening the system configuration dialog box')\n",
    "    engine.runAndWait()\n",
    "    os.system('msconfig')\n",
    "elif('open task manager' in text):\n",
    "    engine.say('Opening the Task Manager')\n",
    "    engine.runAndWait()\n",
    "    os.system('taskmgr')\n",
    "elif('open user accounts' in text):\n",
    "    engine.say('Opening the user accounts')\n",
    "    engine.runAndWait()\n",
    "    os.system('netplwiz')\n",
    "elif('open calculator' in text):\n",
    "    engine.say('Opening the calculator')\n",
    "    engine.runAndWait()\n",
    "    os.system('calc')"
   ]
  },
  {
   "cell_type": "code",
   "execution_count": null,
   "id": "cb8dcd47-f2b9-4d77-9278-801ce656343f",
   "metadata": {},
   "outputs": [],
   "source": []
  },
  {
   "cell_type": "code",
   "execution_count": null,
   "id": "c4ab7204-cb80-46a1-8dc7-1a613b95f905",
   "metadata": {},
   "outputs": [],
   "source": []
  },
  {
   "cell_type": "code",
   "execution_count": null,
   "id": "d6a4cded-b541-4f95-aeee-b36070dda71e",
   "metadata": {},
   "outputs": [],
   "source": []
  },
  {
   "cell_type": "code",
   "execution_count": null,
   "id": "3b1309cd-59b4-4994-9c14-da5a84bda88f",
   "metadata": {},
   "outputs": [],
   "source": []
  },
  {
   "cell_type": "code",
   "execution_count": null,
   "id": "6a866903-7b3f-4138-9c8d-e139283b8814",
   "metadata": {},
   "outputs": [],
   "source": []
  },
  {
   "cell_type": "code",
   "execution_count": null,
   "id": "b5a26817-6d34-4ef9-9416-8c08c2db5f8a",
   "metadata": {},
   "outputs": [],
   "source": []
  },
  {
   "cell_type": "code",
   "execution_count": null,
   "id": "cbecc538-35f9-44ee-8291-ee9a53d69618",
   "metadata": {},
   "outputs": [],
   "source": []
  },
  {
   "cell_type": "code",
   "execution_count": null,
   "id": "82e39e3d-52f2-4c22-b392-135b012295b3",
   "metadata": {},
   "outputs": [],
   "source": []
  },
  {
   "cell_type": "code",
   "execution_count": null,
   "id": "659ca4d3-9424-46df-8fff-9d2821a51a4d",
   "metadata": {},
   "outputs": [],
   "source": []
  },
  {
   "cell_type": "code",
   "execution_count": null,
   "id": "50a1a844-db6c-4765-b719-7dd3a4ea9515",
   "metadata": {},
   "outputs": [],
   "source": []
  },
  {
   "cell_type": "code",
   "execution_count": null,
   "id": "ea21a77f-a91a-40ad-8c9e-1b96a8becff3",
   "metadata": {},
   "outputs": [],
   "source": []
  }
 ],
 "metadata": {
  "kernelspec": {
   "display_name": "Python 3 (ipykernel)",
   "language": "python",
   "name": "python3"
  },
  "language_info": {
   "codemirror_mode": {
    "name": "ipython",
    "version": 3
   },
   "file_extension": ".py",
   "mimetype": "text/x-python",
   "name": "python",
   "nbconvert_exporter": "python",
   "pygments_lexer": "ipython3",
   "version": "3.11.5"
  },
  "widgets": {
   "application/vnd.jupyter.widget-state+json": {
    "state": {},
    "version_major": 2,
    "version_minor": 0
   }
  }
 },
 "nbformat": 4,
 "nbformat_minor": 5
}
